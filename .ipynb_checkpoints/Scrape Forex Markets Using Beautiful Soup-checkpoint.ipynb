{
 "cells": [
  {
   "cell_type": "markdown",
   "id": "45c9e7e0-3fe6-49a6-a28b-a22b256fd9ce",
   "metadata": {},
   "source": [
    "Import libraries"
   ]
  },
  {
   "cell_type": "code",
   "execution_count": 2,
   "id": "f666c1de-054f-4939-8144-09492dad8cd7",
   "metadata": {},
   "outputs": [],
   "source": [
    "import requests\n",
    "from bs4 import BeautifulSoup\n",
    "import pandas as pd"
   ]
  },
  {
   "cell_type": "markdown",
   "id": "b292f56e-7207-47bc-ba48-a6dd8b01be34",
   "metadata": {},
   "source": [
    "Go throu Scraperapi so your IP is not blocked"
   ]
  },
  {
   "cell_type": "code",
   "execution_count": 3,
   "id": "cdd6c252-8fce-4428-9677-4bdcc779e76e",
   "metadata": {},
   "outputs": [],
   "source": [
    "forex_data = []\n",
    " \n",
    "payload = {\n",
    "   'api_key': '72e8dc0427bc3fc4cee19eb212e8328e',\n",
    "   'country_code': 'us',\n",
    "   'url': 'https://finance.yahoo.com/currencies'\n",
    "}\n",
    " \n",
    "response = requests.get('https://api.scraperapi.com', params=payload)"
   ]
  },
  {
   "cell_type": "markdown",
   "id": "8b8c8b22-552c-4b80-a4b7-249d92c8aa0d",
   "metadata": {},
   "source": [
    "veryfing connection"
   ]
  },
  {
   "cell_type": "code",
   "execution_count": 4,
   "id": "ed88120c-f4f1-40b7-bb0a-19f6145d771c",
   "metadata": {},
   "outputs": [
    {
     "name": "stdout",
     "output_type": "stream",
     "text": [
      "200\n"
     ]
    }
   ],
   "source": [
    "print(response.status_code)"
   ]
  },
  {
   "cell_type": "code",
   "execution_count": null,
   "id": "f3ab9190-bdd4-4ccd-904b-e3b118b9bfae",
   "metadata": {},
   "outputs": [],
   "source": [
    "soup = BeautifulSoup(response.content, 'html.parser')\n",
    " \n",
    "table = soup.find('tbody')\n",
    "all_currencies = table.select('tr')\n",
    "for currency in all_currencies:\n",
    "   name =  currency.find('td', attrs={'aria-label': 'Name'}).text\n",
    "   last_price = currency.select_one('td[aria-label=\"Last Price\"]').text\n",
    "   change = currency.find('td', attrs={'aria-label': 'Change'}).text\n",
    "   percentage = currency.select_one('td[aria-label=\"% Change\"] > fin-streamer > span').text\n",
    "   forex_data.append({\n",
    "       'Currency': name,\n",
    "       'Last Price': last_price,\n",
    "       'Change': change,\n",
    "       '% Change': percentage\n",
    "   })\n",
    " \n",
    "df = pd.DataFrame(forex_data)\n",
    "df.to_csv('forex.csv', index=False)"
   ]
  }
 ],
 "metadata": {
  "kernelspec": {
   "display_name": "Python 3 (ipykernel)",
   "language": "python",
   "name": "python3"
  },
  "language_info": {
   "codemirror_mode": {
    "name": "ipython",
    "version": 3
   },
   "file_extension": ".py",
   "mimetype": "text/x-python",
   "name": "python",
   "nbconvert_exporter": "python",
   "pygments_lexer": "ipython3",
   "version": "3.12.3"
  }
 },
 "nbformat": 4,
 "nbformat_minor": 5
}
